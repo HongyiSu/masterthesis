{
 "cells": [
  {
   "cell_type": "code",
   "execution_count": 1,
   "metadata": {},
   "outputs": [
    {
     "name": "stdout",
     "output_type": "stream",
     "text": [
      "Aus Lat = -22.63250866292953 und Lon = 25.78630591547188 wird in UTM (Zone = ):  Easting 375278.0088007024 Northing 7496652.087632344\n",
      "Aus Lat = -22.45523571938825 und Lon = 25.53863310009017 wird in UTM (Zone = ):  Easting 349631.0291920159 Northing 7516050.8550928505\n",
      "Aus Lat = -22.29295158563638 und Lon = 25.3098338819107 wird in UTM (Zone = ):  Easting 325882.10842945037 Northing 7533772.426329663\n",
      "Aus Lat = -22.11056797468847 und Lon = 25.0783952099167 wird in UTM (Zone = ):  Easting 301777.6418262589 Northing 7553683.165995412\n"
     ]
    }
   ],
   "source": [
    "# Import\n",
    "from pyproj import Proj\n",
    "\n",
    "# Coordinates first_fault_plane.kml\n",
    "content = \"25.78630591547188,-22.63250866292953,0 25.53863310009017,-22.45523571938825,0 25.3098338819107,-22.29295158563638,0 25.0783952099167,-22.11056797468847,0\"\n",
    "\n",
    "# Working: Split coordinates and transform to UTM, then store temporary\n",
    "memory = []\n",
    "coordinates = content.split(' ')\n",
    "for lines in coordinates:\n",
    "    line = lines.split(',')\n",
    "    lat = line[1]\n",
    "    lon = line[0]\n",
    "    myProj = Proj(\"+proj=utm +zone=35k +ellps=WGS84 +datum=WGS84 +units=m +no_defs +south\")\n",
    "    easting, northing = myProj(lon, lat) \n",
    "    print('Aus Lat =',lat,'und Lon =',lon,'wird in UTM (Zone =','):',' Easting', easting,'Northing', northing)\n",
    "    e = str(easting)\n",
    "    n = str(northing)\n",
    "    memory.append(n + '\\t' + e + '\\t' + '\\n')\n",
    "\n",
    "# Remove last '\\n' from temporary memory\n",
    "memory[len(memory)-1] = memory[len(memory)-1][:-1]\n",
    "\n",
    "# Print to file\n",
    "destination = open(\"second_fault_plane_Su.dat\",'w')\n",
    "for text in memory:\n",
    "    destination.write(text)   \n",
    "destination.close()"
   ]
  },
  {
   "cell_type": "code",
   "execution_count": 4,
   "metadata": {},
   "outputs": [
    {
     "data": {
      "text/plain": [
       "['25.0783952099167', '-22.11056797468847', '0']"
      ]
     },
     "execution_count": 4,
     "metadata": {},
     "output_type": "execute_result"
    }
   ],
   "source": [
    "line\n"
   ]
  },
  {
   "cell_type": "code",
   "execution_count": 5,
   "metadata": {},
   "outputs": [
    {
     "data": {
      "text/plain": [
       "'-22.11056797468847'"
      ]
     },
     "execution_count": 5,
     "metadata": {},
     "output_type": "execute_result"
    }
   ],
   "source": [
    "line[1]"
   ]
  },
  {
   "cell_type": "code",
   "execution_count": 6,
   "metadata": {},
   "outputs": [
    {
     "data": {
      "text/plain": [
       "'25.0783952099167'"
      ]
     },
     "execution_count": 6,
     "metadata": {},
     "output_type": "execute_result"
    }
   ],
   "source": [
    "line[0]"
   ]
  },
  {
   "cell_type": "code",
   "execution_count": null,
   "metadata": {},
   "outputs": [],
   "source": []
  }
 ],
 "metadata": {
  "kernelspec": {
   "display_name": "Python 3",
   "language": "python",
   "name": "python3"
  },
  "language_info": {
   "codemirror_mode": {
    "name": "ipython",
    "version": 3
   },
   "file_extension": ".py",
   "mimetype": "text/x-python",
   "name": "python",
   "nbconvert_exporter": "python",
   "pygments_lexer": "ipython3",
   "version": "3.8.5"
  }
 },
 "nbformat": 4,
 "nbformat_minor": 4
}
